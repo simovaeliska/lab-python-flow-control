{
 "cells": [
  {
   "cell_type": "markdown",
   "id": "d3bfc191-8885-42ee-b0a0-bbab867c6f9f",
   "metadata": {
    "tags": []
   },
   "source": [
    "# Lab | Flow Control"
   ]
  },
  {
   "cell_type": "markdown",
   "id": "3851fcd1-cf98-4653-9c89-e003b7ec9400",
   "metadata": {},
   "source": [
    "## Exercise: Managing Customer Orders Optimized\n",
    "\n",
    "In the last lab, you were starting an online store that sells various products. To ensure smooth operations, you developed a program that manages customer orders and inventory.\n",
    "\n",
    "You did so without using flow control. Let's go a step further and improve this code.\n",
    "\n",
    "Follow the steps below to complete the exercise:\n",
    "\n",
    "1. Look at your code from the lab data structures, and improve repeated code with loops.\n",
    "\n",
    "2. Instead of asking the user to input the name of three products that a customer wants to order, do the following:\n",
    "    \n",
    "    a. Prompt the user to enter the name of a product that a customer wants to order.\n",
    "    \n",
    "    b. Add the product name to the \"customer_orders\" set.\n",
    "    \n",
    "    c. Ask the user if they want to add another product (yes/no).\n",
    "    \n",
    "    d. Continue the loop until the user does not want to add another product.\n",
    "\n",
    "3. Instead of updating the inventory by subtracting 1 from the quantity of each product, only do it for  the products that were ordered (those in \"customer_orders\")."
   ]
  },
  {
   "cell_type": "code",
   "execution_count": 18,
   "id": "a563abc9-0d17-4e07-a95c-383d9877a621",
   "metadata": {},
   "outputs": [
    {
     "name": "stdin",
     "output_type": "stream",
     "text": [
      "Enter a product you would like to order:  hat\n",
      "Enter a product you would like to order:  book\n",
      "Enter a product you would like to order:  mug\n"
     ]
    }
   ],
   "source": [
    "# 1. Look at your code from the lab data structures, and improve repeated code with loops.\n",
    "\n",
    "products = [\"t-shirt\", \"mug\", \"hat\", \"book\", \"keychain\"]\n",
    "customer_orders = set()\n",
    "\n",
    "for i in range(3):\n",
    "    product = input(\"Enter a product you would like to order: \")\n",
    "    if product in products:\n",
    "        customer_orders.add(product)\n",
    "    else:\n",
    "        print(\"Please, select only product that is available.\")"
   ]
  },
  {
   "cell_type": "code",
   "execution_count": 38,
   "id": "a010f054-96ad-4b75-8fca-b76d6ebd7e65",
   "metadata": {},
   "outputs": [
    {
     "name": "stdin",
     "output_type": "stream",
     "text": [
      "Enter the quantity of available t-shirt:  20\n",
      "Enter the quantity of available mug:  100\n",
      "Enter the quantity of available hat:  40\n",
      "Enter the quantity of available book:  40\n",
      "Enter the quantity of available keychain:  80\n"
     ]
    },
    {
     "name": "stdout",
     "output_type": "stream",
     "text": [
      "{'t-shirt': 20, 'mug': 100, 'hat': 40, 'book': 40, 'keychain': 80}\n"
     ]
    },
    {
     "name": "stdin",
     "output_type": "stream",
     "text": [
      "Enter a name of the product you would like to order:  hoodie\n"
     ]
    },
    {
     "name": "stdout",
     "output_type": "stream",
     "text": [
      "hoodie is added to the order.\n"
     ]
    },
    {
     "name": "stdin",
     "output_type": "stream",
     "text": [
      "hoodie is a new product. Enter the quantity:  30\n",
      "Do you want to add another product? (yes/no):  yes\n",
      "Enter a name of the product you would like to order:  skirt\n"
     ]
    },
    {
     "name": "stdout",
     "output_type": "stream",
     "text": [
      "skirt is added to the order.\n"
     ]
    },
    {
     "name": "stdin",
     "output_type": "stream",
     "text": [
      "skirt is a new product. Enter the quantity:  12\n",
      "Do you want to add another product? (yes/no):  no\n"
     ]
    },
    {
     "name": "stdout",
     "output_type": "stream",
     "text": [
      "Your order is done.\n"
     ]
    }
   ],
   "source": [
    "#2 Instead of asking the user to input the name of three products that a customer wants to order, do the following:\n",
    "\n",
    "#a. Prompt the user to enter the name of a product that a customer wants to order.\n",
    "    \n",
    "#b. Add the product name to the \"customer_orders\" set.\n",
    "    \n",
    "#c. Ask the user if they want to add another product (yes/no).\n",
    "    \n",
    "#d. Continue the loop until the user does not want to add another product.\n",
    "\n",
    "products = [\"t-shirt\", \"mug\", \"hat\", \"book\", \"keychain\"]\n",
    "customer_orders = set()\n",
    "inventory = {}\n",
    "\n",
    "for product in products:\n",
    "    quantity = int(input(\"Enter the quantity of available \" + product + \": \"))\n",
    "    inventory[product] = int(quantity)\n",
    "\n",
    "print(inventory)\n",
    "\n",
    "def add_product():\n",
    "    product = input(\"Enter a name of the product you would like to order: \").lower()\n",
    "    customer_orders.add(product)\n",
    "    print(f\"{product} is added to the order.\")\n",
    "\n",
    "    if product not in inventory:\n",
    "        quantity = int(input(f\"{product} is a new product. Enter the quantity: \"))\n",
    "        inventory[product] = quantity\n",
    "\n",
    "    another_product = input(\"Do you want to add another product? (yes/no): \").lower()\n",
    "    if another_product == 'yes':\n",
    "        add_product()\n",
    "    else:\n",
    "        print(\"Your order is done.\")\n",
    "        \n",
    "add_product()"
   ]
  },
  {
   "cell_type": "code",
   "execution_count": 40,
   "id": "963aeaaf-507e-4d2c-84f5-8ed6ef88722f",
   "metadata": {},
   "outputs": [
    {
     "name": "stdout",
     "output_type": "stream",
     "text": [
      "Updated Inventory: {'t-shirt': 20, 'mug': 100, 'hat': 40, 'book': 40, 'keychain': 80, 'hoodie': 29, 'skirt': 11}\n"
     ]
    }
   ],
   "source": [
    "#3\n",
    "for product in customer_orders:\n",
    "    if product in inventory:\n",
    "        if inventory[product] > 0:\n",
    "            inventory[product] -= 1\n",
    "\n",
    "print(\"Updated Inventory:\", inventory)"
   ]
  },
  {
   "cell_type": "code",
   "execution_count": null,
   "id": "45901477-4d90-47f2-8952-fdb833ab2edd",
   "metadata": {},
   "outputs": [],
   "source": []
  }
 ],
 "metadata": {
  "kernelspec": {
   "display_name": "Python 3 (ipykernel)",
   "language": "python",
   "name": "python3"
  },
  "language_info": {
   "codemirror_mode": {
    "name": "ipython",
    "version": 3
   },
   "file_extension": ".py",
   "mimetype": "text/x-python",
   "name": "python",
   "nbconvert_exporter": "python",
   "pygments_lexer": "ipython3",
   "version": "3.12.4"
  }
 },
 "nbformat": 4,
 "nbformat_minor": 5
}
